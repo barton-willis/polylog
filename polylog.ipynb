{
 "cells": [
  {
   "cell_type": "raw",
   "id": "e85f169e",
   "metadata": {},
   "source": [
    "## A Julia package for evaluating the dilogarithm function\n",
    "\n",
    "To use this package, you will need to put the files `polylog.jl`, `polylog_test.jl`, and `tests.jl` into a folder that Julia can locate. Once that is done, the command `using polylog` loads the package"
   ]
  },
  {
   "cell_type": "code",
   "execution_count": 1,
   "id": "b25833da",
   "metadata": {},
   "outputs": [
    {
     "name": "stderr",
     "output_type": "stream",
     "text": [
      "\u001b[36m\u001b[1m[ \u001b[22m\u001b[39m\u001b[36m\u001b[1mInfo: \u001b[22m\u001b[39mPrecompiling polylog [top-level]\n"
     ]
    }
   ],
   "source": [
    "using polylog"
   ]
  },
  {
   "cell_type": "raw",
   "id": "6af2f104",
   "metadata": {},
   "source": [
    "To run the accuracy tests in `polylog_test.jl`, manually include this file and run each of the five tests. Each test uses a dilogarithm function identity to compare the relative difference between values.  The test report gives the number of tests and the avarage scaled relative difference. The scaled relative difference is the relative difference divided by the machine epsilon. The report also shows the worst relative difference, and a dicitionary that gives the number if tests a given scaled relative difference rounded to the nearest integer."
   ]
  },
  {
   "cell_type": "code",
   "execution_count": 2,
   "id": "284fc23e",
   "metadata": {},
   "outputs": [],
   "source": [
    "include(joinpath(dirname(pathof(polylog)), \"polylog_test.jl\"));"
   ]
  },
  {
   "cell_type": "code",
   "execution_count": 8,
   "id": "61e02283",
   "metadata": {},
   "outputs": [
    {
     "name": "stdout",
     "output_type": "stream",
     "text": [
      "number of tests = 10201\n",
      "average error = 0.11293010489167729\n",
      "worst error = 4\n"
     ]
    },
    {
     "data": {
      "text/plain": [
       "5-element Vector{Pair{Any, Any}}:\n",
       " 0 => 9200\n",
       " 1 => 875\n",
       " 2 => 104\n",
       " 3 => 19\n",
       " 4 => 3"
      ]
     },
     "execution_count": 8,
     "metadata": {},
     "output_type": "execute_result"
    }
   ],
   "source": [
    "polylog2_test1(Complex{Float64},100,100)"
   ]
  },
  {
   "cell_type": "code",
   "execution_count": 9,
   "id": "0e6b0de7",
   "metadata": {},
   "outputs": [
    {
     "name": "stdout",
     "output_type": "stream",
     "text": [
      "number of tests = 1000000\n",
      "average error = 0.461617\n",
      "worst error = 9\n"
     ]
    },
    {
     "data": {
      "text/plain": [
       "10-element Vector{Pair{Any, Any}}:\n",
       " 0 => 662502\n",
       " 1 => 248081\n",
       " 2 => 63495\n",
       " 3 => 19075\n",
       " 4 => 5284\n",
       " 5 => 1239\n",
       " 6 => 285\n",
       " 7 => 33\n",
       " 8 => 5\n",
       " 9 => 1"
      ]
     },
     "execution_count": 9,
     "metadata": {},
     "output_type": "execute_result"
    }
   ],
   "source": [
    "polylog2_test2(Complex{Float64},10^6)"
   ]
  },
  {
   "cell_type": "code",
   "execution_count": 10,
   "id": "3d4523b6",
   "metadata": {},
   "outputs": [
    {
     "name": "stdout",
     "output_type": "stream",
     "text": [
      "number of tests = 1000000\n",
      "average error = 0.461617\n",
      "worst error = 9\n"
     ]
    },
    {
     "data": {
      "text/plain": [
       "10-element Vector{Pair{Any, Any}}:\n",
       " 0 => 662502\n",
       " 1 => 248081\n",
       " 2 => 63495\n",
       " 3 => 19075\n",
       " 4 => 5284\n",
       " 5 => 1239\n",
       " 6 => 285\n",
       " 7 => 33\n",
       " 8 => 5\n",
       " 9 => 1"
      ]
     },
     "execution_count": 10,
     "metadata": {},
     "output_type": "execute_result"
    }
   ],
   "source": [
    "polylog2_test2(Complex{Float64},10^6)"
   ]
  },
  {
   "cell_type": "code",
   "execution_count": 11,
   "id": "a1496a1f",
   "metadata": {},
   "outputs": [
    {
     "name": "stdout",
     "output_type": "stream",
     "text": [
      "number of tests = 999999\n",
      "average error = 2.0367670367670367\n",
      "worst error = 22\n"
     ]
    },
    {
     "data": {
      "text/plain": [
       "22-element Vector{Pair{Any, Any}}:\n",
       "  0 => 289123\n",
       "  1 => 220676\n",
       "  2 => 163889\n",
       "  3 => 116974\n",
       "  4 => 80350\n",
       "  5 => 52475\n",
       "  6 => 32644\n",
       "  7 => 19568\n",
       "  8 => 11200\n",
       "  9 => 6272\n",
       " 10 => 3417\n",
       " 11 => 1746\n",
       " 12 => 896\n",
       " 13 => 432\n",
       " 14 => 191\n",
       " 15 => 90\n",
       " 16 => 28\n",
       " 17 => 14\n",
       " 18 => 5\n",
       " 19 => 5\n",
       " 21 => 1\n",
       " 22 => 3"
      ]
     },
     "execution_count": 11,
     "metadata": {},
     "output_type": "execute_result"
    }
   ],
   "source": [
    "polylog2_test3(Complex{Float64},10^3,4)"
   ]
  },
  {
   "cell_type": "code",
   "execution_count": 18,
   "id": "e014b974",
   "metadata": {},
   "outputs": [
    {
     "name": "stdout",
     "output_type": "stream",
     "text": [
      "number of tests = 1000000\n",
      "average error = 0.922635\n",
      "worst error = 7\n"
     ]
    },
    {
     "data": {
      "text/plain": [
       "8-element Vector{Pair{Any, Any}}:\n",
       " 0 => 453180\n",
       " 1 => 315905\n",
       " 2 => 128403\n",
       " 3 => 68145\n",
       " 4 => 27329\n",
       " 5 => 6115\n",
       " 6 => 863\n",
       " 7 => 60"
      ]
     },
     "execution_count": 18,
     "metadata": {},
     "output_type": "execute_result"
    }
   ],
   "source": [
    "polylog2_test4(Float64,10^6)"
   ]
  },
  {
   "cell_type": "code",
   "execution_count": 20,
   "id": "1f0e035f",
   "metadata": {
    "scrolled": true
   },
   "outputs": [
    {
     "name": "stdout",
     "output_type": "stream",
     "text": [
      "number of tests = 1000000\n",
      "average error = 0.486234\n",
      "worst error = 8\n"
     ]
    },
    {
     "data": {
      "text/plain": [
       "9-element Vector{Pair{Any, Any}}:\n",
       " 0 => 644443\n",
       " 1 => 257916\n",
       " 2 => 72530\n",
       " 3 => 18836\n",
       " 4 => 4963\n",
       " 5 => 1026\n",
       " 6 => 240\n",
       " 7 => 40\n",
       " 8 => 6"
      ]
     },
     "execution_count": 20,
     "metadata": {},
     "output_type": "execute_result"
    }
   ],
   "source": [
    "polylog2_test5(Float64,10^3)"
   ]
  },
  {
   "cell_type": "raw",
   "id": "07099b1a",
   "metadata": {},
   "source": [
    "Here we run the unit tests--for the details of what each test does, you'll need to read the source code."
   ]
  },
  {
   "cell_type": "code",
   "execution_count": 21,
   "id": "e1458102",
   "metadata": {},
   "outputs": [
    {
     "name": "stdout",
     "output_type": "stream",
     "text": [
      "\n",
      "\u001b[31m\u001b[1mSpecial Values Test\u001b[22m\u001b[39m\n",
      "\u001b[0m\u001b[1mTest Summary: | \u001b[22m\u001b[32m\u001b[1mPass  \u001b[22m\u001b[39m\u001b[36m\u001b[1mTotal  \u001b[22m\u001b[39m\u001b[0m\u001b[1mTime\u001b[22m\n",
      "test set      | \u001b[32m   3  \u001b[39m\u001b[36m    3  \u001b[39m\u001b[0m0.6s\n",
      "\n",
      "\u001b[31m\u001b[1mBinary 16 Tests\u001b[22m\u001b[39m\n",
      "\u001b[0m\u001b[1mTest Summary: | \u001b[22m\u001b[32m\u001b[1mPass  \u001b[22m\u001b[39m\u001b[36m\u001b[1mTotal  \u001b[22m\u001b[39m\u001b[0m\u001b[1mTime\u001b[22m\n",
      "test set      | \u001b[32m  17  \u001b[39m\u001b[36m   17  \u001b[39m\u001b[0m0.8s\n",
      "\n",
      "\u001b[31m\u001b[1mBinary32 Tests\u001b[22m\u001b[39m\n",
      "\u001b[0m\u001b[1mTest Summary: | \u001b[22m\u001b[32m\u001b[1mPass  \u001b[22m\u001b[39m\u001b[36m\u001b[1mTotal  \u001b[22m\u001b[39m\u001b[0m\u001b[1mTime\u001b[22m\n",
      "test set      | \u001b[32m  17  \u001b[39m\u001b[36m   17  \u001b[39m\u001b[0m0.4s\n",
      "\n",
      "\u001b[31m\u001b[1mBinary64 Tests\u001b[22m\u001b[39m\n",
      "\u001b[0m\u001b[1mTest Summary: | \u001b[22m\u001b[32m\u001b[1mPass  \u001b[22m\u001b[39m\u001b[36m\u001b[1mTotal  \u001b[22m\u001b[39m\u001b[0m\u001b[1mTime\u001b[22m\n",
      "test set      | \u001b[32m  17  \u001b[39m\u001b[36m   17  \u001b[39m\u001b[0m0.1s\n",
      "\n",
      "\u001b[31m\u001b[1mBigFloat Tests\u001b[22m\u001b[39m\n",
      "\u001b[0m\u001b[1mTest Summary: | \u001b[22m\u001b[32m\u001b[1mPass  \u001b[22m\u001b[39m\u001b[36m\u001b[1mTotal  \u001b[22m\u001b[39m\u001b[0m\u001b[1mTime\u001b[22m\n",
      "test set      | \u001b[32m  17  \u001b[39m\u001b[36m   17  \u001b[39m\u001b[0m0.9s\n",
      "\n",
      "\u001b[31m\u001b[1mTable 27.7 Abramowitz & Stegun\u001b[22m\u001b[39m\n",
      "\u001b[0m\u001b[1mTest Summary: | \u001b[22m\u001b[32m\u001b[1mPass  \u001b[22m\u001b[39m\u001b[36m\u001b[1mTotal  \u001b[22m\u001b[39m\u001b[0m\u001b[1mTime\u001b[22m\n",
      "test set      | \u001b[32m  51  \u001b[39m\u001b[36m   51  \u001b[39m\u001b[0m0.1s\n",
      "\n",
      "\u001b[31m\u001b[1mTest DLMF identity 25.12.3E3\u001b[22m\u001b[39m\n",
      "\u001b[0m\u001b[1mTest Summary: | \u001b[22m\u001b[32m\u001b[1mPass  \u001b[22m\u001b[39m\u001b[36m\u001b[1mTotal  \u001b[22m\u001b[39m\u001b[0m\u001b[1m Time\u001b[22m\n",
      "test set      | \u001b[32m   4  \u001b[39m\u001b[36m    4  \u001b[39m\u001b[0m51.5s\n",
      "\n",
      "\u001b[31m\u001b[1mTest DLMF identity 25.12.E5\u001b[22m\u001b[39m\n",
      "\u001b[0m\u001b[1mTest Summary: | \u001b[22m\u001b[32m\u001b[1mPass  \u001b[22m\u001b[39m\u001b[36m\u001b[1mTotal  \u001b[22m\u001b[39m\u001b[0m\u001b[1m Time\u001b[22m\n",
      "test set      | \u001b[32m   4  \u001b[39m\u001b[36m    4  \u001b[39m\u001b[0m51.0s\n",
      "\n",
      "\u001b[31m\u001b[1mTest DLMF identity 25.12.E7\u001b[22m\u001b[39m\n",
      "\u001b[0m\u001b[1mTest Summary: | \u001b[22m\u001b[32m\u001b[1mPass  \u001b[22m\u001b[39m\u001b[36m\u001b[1mTotal  \u001b[22m\u001b[39m\u001b[0m\u001b[1mTime\u001b[22m\n",
      "test set      | \u001b[32m   4  \u001b[39m\u001b[36m    4  \u001b[39m\u001b[0m0.5s\n",
      "\n",
      "\u001b[31m\u001b[1mTest Dilogarithm reflection identity\u001b[22m\u001b[39m\n",
      "\u001b[0m\u001b[1mTest Summary: | \u001b[22m\u001b[32m\u001b[1mPass  \u001b[22m\u001b[39m\u001b[36m\u001b[1mTotal  \u001b[22m\u001b[39m\u001b[0m\u001b[1m   Time\u001b[22m\n",
      "test set      | \u001b[32m   4  \u001b[39m\u001b[36m    4  \u001b[39m\u001b[0m1m22.4s\n",
      "\n",
      "\u001b[31m\u001b[1mCompare to PolyLog\u001b[22m\u001b[39m\n",
      "\u001b[0m\u001b[1mTest Summary: | \u001b[22m\u001b[32m\u001b[1mPass  \u001b[22m\u001b[39m\u001b[36m\u001b[1mTotal  \u001b[22m\u001b[39m\u001b[0m\u001b[1m Time\u001b[22m\n",
      "test set      | \u001b[32m   4  \u001b[39m\u001b[36m    4  \u001b[39m\u001b[0m43.7s\n",
      "\n",
      "\u001b[31m\u001b[1mMultiple precision Tests\u001b[22m\u001b[39m\n",
      "\u001b[0m\u001b[1mTest Summary: | \u001b[22m\u001b[32m\u001b[1mPass  \u001b[22m\u001b[39m\u001b[36m\u001b[1mTotal  \u001b[22m\u001b[39m\u001b[0m\u001b[1mTime\u001b[22m\n",
      "test set      | \u001b[32m   5  \u001b[39m\u001b[36m    5  \u001b[39m\u001b[0m0.2s\n",
      "\n",
      "\u001b[31m\u001b[1mTest Int64 inputs\u001b[22m\u001b[39m\n",
      "\u001b[0m\u001b[1mTest Summary: | \u001b[22m\u001b[32m\u001b[1mPass  \u001b[22m\u001b[39m\u001b[36m\u001b[1mTotal  \u001b[22m\u001b[39m\u001b[0m\u001b[1mTime\u001b[22m\n",
      "test set      | \u001b[32m   2  \u001b[39m\u001b[36m    2  \u001b[39m\u001b[0m0.0s\n",
      "\n",
      "\u001b[31m\u001b[1mRegression Tests\u001b[22m\u001b[39m\n",
      "\u001b[0m\u001b[1mTest Summary: | \u001b[22m\u001b[32m\u001b[1mPass  \u001b[22m\u001b[39m\u001b[36m\u001b[1mTotal  \u001b[22m\u001b[39m\u001b[0m\u001b[1mTime\u001b[22m\n",
      "test set      | \u001b[32m   8  \u001b[39m\u001b[36m    8  \u001b[39m\u001b[0m0.0s\n"
     ]
    }
   ],
   "source": [
    "include(joinpath(dirname(pathof(polylog)), \"tests.jl\"));"
   ]
  },
  {
   "cell_type": "code",
   "execution_count": 26,
   "id": "5adbb6c5",
   "metadata": {},
   "outputs": [
    {
     "data": {
      "text/plain": [
       "rd (generic function with 2 methods)"
      ]
     },
     "execution_count": 26,
     "metadata": {},
     "output_type": "execute_result"
    }
   ],
   "source": [
    "function rd(a::Real,b::Real)\n",
    "    if isinf(a) || isinf(b) || isnan(a) || isnan(b)\n",
    "       Inf\n",
    "    else\n",
    "     abs(a-b)/(min(abs(a),abs(b)))\n",
    "    end\n",
    " end\n"
   ]
  },
  {
   "cell_type": "code",
   "execution_count": 27,
   "id": "9fff5b81",
   "metadata": {},
   "outputs": [
    {
     "data": {
      "text/plain": [
       "rd (generic function with 2 methods)"
      ]
     },
     "execution_count": 27,
     "metadata": {},
     "output_type": "execute_result"
    }
   ],
   "source": [
    " function rd(a::Number,b::Number)\n",
    "      max(rd(real(a),real(b)), rd(imag(a),imag(b)))\n",
    " end"
   ]
  },
  {
   "cell_type": "code",
   "execution_count": 38,
   "id": "b8e53af0",
   "metadata": {},
   "outputs": [
    {
     "data": {
      "text/plain": [
       "relativeDiff (generic function with 1 method)"
      ]
     },
     "execution_count": 38,
     "metadata": {},
     "output_type": "execute_result"
    }
   ],
   "source": [
    "function relativeDiff(x,exact)\n",
    "    rr = abs(real(x)-real(exact))/abs(real(exact))\n",
    "    ri = abs(imag(x)-imag(exact))/abs(imag(exact))    \n",
    "    max(if isnan(rr) 0 else rr end,  if isnan(ri) 0 else ri end)       \n",
    "end"
   ]
  },
  {
   "cell_type": "code",
   "execution_count": 39,
   "id": "2494e344",
   "metadata": {},
   "outputs": [
    {
     "data": {
      "text/plain": [
       "compare_polylog2 (generic function with 3 methods)"
      ]
     },
     "execution_count": 39,
     "metadata": {},
     "output_type": "execute_result"
    }
   ],
   "source": [
    "function compare_polylog2(T::Type, n)\n",
    "    mm = -Inf\n",
    "    xxx = 0\n",
    "    pie = convert(BigFloat,pi)\n",
    "    for i = 1 : n\n",
    "        for j = 0 : n-1\n",
    "            x = (i/n) * cis(2*pie* j/n)\n",
    "            m = relativeDiff(polylog2(x), polylog2(convert(Complex{T},x)))\n",
    "            if m > mm\n",
    "                xxx = x\n",
    "                mm = m\n",
    "            end\n",
    "        end\n",
    "    end\n",
    "  convert(Float64,mm), convert(Complex{Float64}, xxx)\n",
    "end"
   ]
  },
  {
   "cell_type": "code",
   "execution_count": 45,
   "id": "68c9848c",
   "metadata": {},
   "outputs": [
    {
     "data": {
      "text/plain": [
       "(9.639329568507601e-15, 0.13866217279343623 + 0.7268925655392297im)"
      ]
     },
     "execution_count": 45,
     "metadata": {},
     "output_type": "execute_result"
    }
   ],
   "source": [
    "compare_polylog2(Float64, 50)"
   ]
  },
  {
   "cell_type": "code",
   "execution_count": null,
   "id": "7706b52a",
   "metadata": {},
   "outputs": [],
   "source": []
  },
  {
   "cell_type": "code",
   "execution_count": 46,
   "id": "9cf1efdd",
   "metadata": {},
   "outputs": [
    {
     "data": {
      "text/plain": [
       "multiple_prec (generic function with 1 method)"
      ]
     },
     "execution_count": 46,
     "metadata": {},
     "output_type": "execute_result"
    }
   ],
   "source": [
    "function multiple_prec(x)\n",
    "    y16 = polylog2(convert(Complex{Float16},x))\n",
    "    y32 = polylog2(convert(Complex{Float32},x))\n",
    "    y64 = polylog2(convert(Complex{Float64},x))\n",
    "    ybf = polylog2(convert(Complex{BigFloat},x))\n",
    "    isapprox(y16, convert(Complex{Float16},y32), atol=8*eps(Float16)) &&\n",
    "    isapprox(y32, convert(Complex{Float32},y32), atol=4*eps(Float32)) &&\n",
    "    isapprox(y64, convert(Complex{Float64},ybf), atol=4*eps(Float64))\n",
    "end"
   ]
  },
  {
   "cell_type": "code",
   "execution_count": 49,
   "id": "6d34d42d",
   "metadata": {},
   "outputs": [
    {
     "data": {
      "text/plain": [
       "true"
      ]
     },
     "execution_count": 49,
     "metadata": {},
     "output_type": "execute_result"
    }
   ],
   "source": [
    "multiple_prec(28*im)"
   ]
  },
  {
   "cell_type": "code",
   "execution_count": null,
   "id": "33541c52",
   "metadata": {},
   "outputs": [],
   "source": []
  }
 ],
 "metadata": {
  "kernelspec": {
   "display_name": "Julia 1.10.0",
   "language": "julia",
   "name": "julia-1.10"
  },
  "language_info": {
   "file_extension": ".jl",
   "mimetype": "application/julia",
   "name": "julia",
   "version": "1.10.0"
  }
 },
 "nbformat": 4,
 "nbformat_minor": 5
}
