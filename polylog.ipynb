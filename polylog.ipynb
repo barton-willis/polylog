{
 "cells": [
  {
   "cell_type": "markdown",
   "id": "88872751-738f-4448-bf1b-28a9d7fd43f4",
   "metadata": {},
   "source": [
    "## A Julia package for evaluating the dilogarithm function\n",
    "\n",
    "To use this package, you will need to put the files `polylog.jl`, `polylog_test.jl`, and `tests.jl` into a folder that Julia can locate. Once that is done, the command `using polylog` loads the package"
   ]
  },
  {
   "cell_type": "code",
   "execution_count": 2,
   "id": "b25833da",
   "metadata": {
    "tags": []
   },
   "outputs": [],
   "source": [
    "using polylog"
   ]
  },
  {
   "cell_type": "markdown",
   "id": "3f6d982d-c9b6-46c5-8870-2cbc23f17eb2",
   "metadata": {},
   "source": [
    "To run the accuracy tests in `polylog_test.jl`, manually include this file and run each of the five tests. Each test uses a dilogarithm function identity to compare the relative difference between values.  The test report gives the number of tests and the average scaled relative difference. The scaled relative difference is the relative difference divided by the machine epsilon. The report also shows the worst relative difference, and a dictionary that gives the number if tests a given scaled relative difference rounded to the nearest integer."
   ]
  },
  {
   "cell_type": "code",
   "execution_count": 4,
   "id": "284fc23e",
   "metadata": {
    "tags": []
   },
   "outputs": [],
   "source": [
    "include(joinpath(dirname(pathof(polylog)), \"polylog_test.jl\"));"
   ]
  },
  {
   "cell_type": "code",
   "execution_count": 5,
   "id": "61e02283",
   "metadata": {
    "tags": []
   },
   "outputs": [
    {
     "name": "stdout",
     "output_type": "stream",
     "text": [
      "number of tests = 10201\n",
      "average error = 0.11293010489167729\n",
      "worst error = 4\n"
     ]
    },
    {
     "data": {
      "text/plain": [
       "5-element Vector{Pair{Any, Any}}:\n",
       " 0 => 9200\n",
       " 1 => 875\n",
       " 2 => 104\n",
       " 3 => 19\n",
       " 4 => 3"
      ]
     },
     "execution_count": 5,
     "metadata": {},
     "output_type": "execute_result"
    }
   ],
   "source": [
    "polylog2_test1(Complex{Float64},100,100)"
   ]
  },
  {
   "cell_type": "code",
   "execution_count": 6,
   "id": "0e6b0de7",
   "metadata": {},
   "outputs": [
    {
     "name": "stdout",
     "output_type": "stream",
     "text": [
      "number of tests = 1000000\n",
      "average error = 0.461617\n",
      "worst error = 9\n"
     ]
    },
    {
     "data": {
      "text/plain": [
       "10-element Vector{Pair{Any, Any}}:\n",
       " 0 => 662502\n",
       " 1 => 248081\n",
       " 2 => 63495\n",
       " 3 => 19075\n",
       " 4 => 5284\n",
       " 5 => 1239\n",
       " 6 => 285\n",
       " 7 => 33\n",
       " 8 => 5\n",
       " 9 => 1"
      ]
     },
     "execution_count": 6,
     "metadata": {},
     "output_type": "execute_result"
    }
   ],
   "source": [
    "polylog2_test2(Complex{Float64},10^6)"
   ]
  },
  {
   "cell_type": "code",
   "execution_count": 7,
   "id": "3d4523b6",
   "metadata": {},
   "outputs": [
    {
     "name": "stdout",
     "output_type": "stream",
     "text": [
      "number of tests = 1000000\n",
      "average error = 0.461617\n",
      "worst error = 9\n"
     ]
    },
    {
     "data": {
      "text/plain": [
       "10-element Vector{Pair{Any, Any}}:\n",
       " 0 => 662502\n",
       " 1 => 248081\n",
       " 2 => 63495\n",
       " 3 => 19075\n",
       " 4 => 5284\n",
       " 5 => 1239\n",
       " 6 => 285\n",
       " 7 => 33\n",
       " 8 => 5\n",
       " 9 => 1"
      ]
     },
     "execution_count": 7,
     "metadata": {},
     "output_type": "execute_result"
    }
   ],
   "source": [
    "polylog2_test2(Complex{Float64},10^6)"
   ]
  },
  {
   "cell_type": "code",
   "execution_count": 8,
   "id": "a1496a1f",
   "metadata": {},
   "outputs": [
    {
     "name": "stdout",
     "output_type": "stream",
     "text": [
      "number of tests = 999999\n",
      "average error = 2.0367670367670367\n",
      "worst error = 22\n"
     ]
    },
    {
     "data": {
      "text/plain": [
       "22-element Vector{Pair{Any, Any}}:\n",
       "  0 => 289123\n",
       "  1 => 220676\n",
       "  2 => 163889\n",
       "  3 => 116974\n",
       "  4 => 80350\n",
       "  5 => 52475\n",
       "  6 => 32644\n",
       "  7 => 19568\n",
       "  8 => 11200\n",
       "  9 => 6272\n",
       " 10 => 3417\n",
       " 11 => 1746\n",
       " 12 => 896\n",
       " 13 => 432\n",
       " 14 => 191\n",
       " 15 => 90\n",
       " 16 => 28\n",
       " 17 => 14\n",
       " 18 => 5\n",
       " 19 => 5\n",
       " 21 => 1\n",
       " 22 => 3"
      ]
     },
     "execution_count": 8,
     "metadata": {},
     "output_type": "execute_result"
    }
   ],
   "source": [
    "polylog2_test3(Complex{Float64},10^3,4)"
   ]
  },
  {
   "cell_type": "code",
   "execution_count": 9,
   "id": "e014b974",
   "metadata": {},
   "outputs": [
    {
     "name": "stdout",
     "output_type": "stream",
     "text": [
      "number of tests = 1000000\n",
      "average error = 0.922635\n",
      "worst error = 7\n"
     ]
    },
    {
     "data": {
      "text/plain": [
       "8-element Vector{Pair{Any, Any}}:\n",
       " 0 => 453180\n",
       " 1 => 315905\n",
       " 2 => 128403\n",
       " 3 => 68145\n",
       " 4 => 27329\n",
       " 5 => 6115\n",
       " 6 => 863\n",
       " 7 => 60"
      ]
     },
     "execution_count": 9,
     "metadata": {},
     "output_type": "execute_result"
    }
   ],
   "source": [
    "polylog2_test4(Float64,10^6)"
   ]
  },
  {
   "cell_type": "code",
   "execution_count": 10,
   "id": "1f0e035f",
   "metadata": {
    "scrolled": true
   },
   "outputs": [
    {
     "name": "stdout",
     "output_type": "stream",
     "text": [
      "number of tests = 1000000\n",
      "average error = 0.486234\n",
      "worst error = 8\n"
     ]
    },
    {
     "data": {
      "text/plain": [
       "9-element Vector{Pair{Any, Any}}:\n",
       " 0 => 644443\n",
       " 1 => 257916\n",
       " 2 => 72530\n",
       " 3 => 18836\n",
       " 4 => 4963\n",
       " 5 => 1026\n",
       " 6 => 240\n",
       " 7 => 40\n",
       " 8 => 6"
      ]
     },
     "execution_count": 10,
     "metadata": {},
     "output_type": "execute_result"
    }
   ],
   "source": [
    "polylog2_test5(Float64,10^3)"
   ]
  },
  {
   "cell_type": "markdown",
   "id": "07099b1a",
   "metadata": {},
   "source": [
    "Here we run the unit tests--for the details of what each test does, you'll need to read the source code."
   ]
  },
  {
   "cell_type": "code",
   "execution_count": 11,
   "id": "e1458102",
   "metadata": {},
   "outputs": [
    {
     "name": "stdout",
     "output_type": "stream",
     "text": [
      "\n",
      "\u001b[31m\u001b[1mSpecial Values Test\u001b[22m\u001b[39m\n",
      "\u001b[0m\u001b[1mTest Summary: | \u001b[22m\u001b[32m\u001b[1mPass  \u001b[22m\u001b[39m\u001b[36m\u001b[1mTotal  \u001b[22m\u001b[39m\u001b[0m\u001b[1mTime\u001b[22m\n",
      "test set      | \u001b[32m   3  \u001b[39m\u001b[36m    3  \u001b[39m\u001b[0m0.5s\n",
      "\n",
      "\u001b[31m\u001b[1mBinary 16 Tests\u001b[22m\u001b[39m\n",
      "\u001b[0m\u001b[1mTest Summary: | \u001b[22m\u001b[32m\u001b[1mPass  \u001b[22m\u001b[39m\u001b[36m\u001b[1mTotal  \u001b[22m\u001b[39m\u001b[0m\u001b[1mTime\u001b[22m\n",
      "test set      | \u001b[32m  17  \u001b[39m\u001b[36m   17  \u001b[39m\u001b[0m0.7s\n",
      "\n",
      "\u001b[31m\u001b[1mBinary32 Tests\u001b[22m\u001b[39m\n",
      "\u001b[0m\u001b[1mTest Summary: | \u001b[22m\u001b[32m\u001b[1mPass  \u001b[22m\u001b[39m\u001b[36m\u001b[1mTotal  \u001b[22m\u001b[39m\u001b[0m\u001b[1mTime\u001b[22m\n",
      "test set      | \u001b[32m  17  \u001b[39m\u001b[36m   17  \u001b[39m\u001b[0m0.4s\n",
      "\n",
      "\u001b[31m\u001b[1mBinary64 Tests\u001b[22m\u001b[39m\n",
      "\u001b[0m\u001b[1mTest Summary: | \u001b[22m\u001b[32m\u001b[1mPass  \u001b[22m\u001b[39m\u001b[36m\u001b[1mTotal  \u001b[22m\u001b[39m\u001b[0m\u001b[1mTime\u001b[22m\n",
      "test set      | \u001b[32m  17  \u001b[39m\u001b[36m   17  \u001b[39m\u001b[0m0.1s\n",
      "\n",
      "\u001b[31m\u001b[1mBigFloat Tests\u001b[22m\u001b[39m\n",
      "\u001b[0m\u001b[1mTest Summary: | \u001b[22m\u001b[32m\u001b[1mPass  \u001b[22m\u001b[39m\u001b[36m\u001b[1mTotal  \u001b[22m\u001b[39m\u001b[0m\u001b[1mTime\u001b[22m\n",
      "test set      | \u001b[32m  17  \u001b[39m\u001b[36m   17  \u001b[39m\u001b[0m0.9s\n",
      "\n",
      "\u001b[31m\u001b[1mTable 27.7 Abramowitz & Stegun\u001b[22m\u001b[39m\n",
      "\u001b[0m\u001b[1mTest Summary: | \u001b[22m\u001b[32m\u001b[1mPass  \u001b[22m\u001b[39m\u001b[36m\u001b[1mTotal  \u001b[22m\u001b[39m\u001b[0m\u001b[1mTime\u001b[22m\n",
      "test set      | \u001b[32m  51  \u001b[39m\u001b[36m   51  \u001b[39m\u001b[0m0.1s\n",
      "\n",
      "\u001b[31m\u001b[1mTest DLMF identity 25.12.3E3\u001b[22m\u001b[39m\n",
      "\u001b[0m\u001b[1mTest Summary: | \u001b[22m\u001b[32m\u001b[1mPass  \u001b[22m\u001b[39m\u001b[36m\u001b[1mTotal  \u001b[22m\u001b[39m\u001b[0m\u001b[1m Time\u001b[22m\n",
      "test set      | \u001b[32m   4  \u001b[39m\u001b[36m    4  \u001b[39m\u001b[0m50.9s\n",
      "\n",
      "\u001b[31m\u001b[1mTest DLMF identity 25.12.E5\u001b[22m\u001b[39m\n",
      "\u001b[0m\u001b[1mTest Summary: | \u001b[22m\u001b[32m\u001b[1mPass  \u001b[22m\u001b[39m\u001b[36m\u001b[1mTotal  \u001b[22m\u001b[39m\u001b[0m\u001b[1m Time\u001b[22m\n",
      "test set      | \u001b[32m   4  \u001b[39m\u001b[36m    4  \u001b[39m\u001b[0m49.9s\n",
      "\n",
      "\u001b[31m\u001b[1mTest DLMF identity 25.12.E7\u001b[22m\u001b[39m\n",
      "\u001b[0m\u001b[1mTest Summary: | \u001b[22m\u001b[32m\u001b[1mPass  \u001b[22m\u001b[39m\u001b[36m\u001b[1mTotal  \u001b[22m\u001b[39m\u001b[0m\u001b[1m Time\u001b[22m\n",
      "test set      | \u001b[32m   4  \u001b[39m\u001b[36m    4  \u001b[39m\u001b[0m37.5s\n",
      "\n",
      "\u001b[31m\u001b[1mTest Dilogarithm reflection identity\u001b[22m\u001b[39m\n",
      "\u001b[0m\u001b[1mTest Summary: | \u001b[22m\u001b[32m\u001b[1mPass  \u001b[22m\u001b[39m\u001b[36m\u001b[1mTotal  \u001b[22m\u001b[39m\u001b[0m\u001b[1m   Time\u001b[22m\n",
      "test set      | \u001b[32m   4  \u001b[39m\u001b[36m    4  \u001b[39m\u001b[0m1m24.1s\n",
      "\n",
      "\u001b[31m\u001b[1mCompare to PolyLog\u001b[22m\u001b[39m\n",
      "\u001b[0m\u001b[1mTest Summary: | \u001b[22m\u001b[32m\u001b[1mPass  \u001b[22m\u001b[39m\u001b[36m\u001b[1mTotal  \u001b[22m\u001b[39m\u001b[0m\u001b[1m Time\u001b[22m\n",
      "test set      | \u001b[32m   4  \u001b[39m\u001b[36m    4  \u001b[39m\u001b[0m41.5s\n",
      "\n",
      "\u001b[31m\u001b[1mMultiple precision Tests\u001b[22m\u001b[39m\n",
      "\u001b[0m\u001b[1mTest Summary: | \u001b[22m\u001b[32m\u001b[1mPass  \u001b[22m\u001b[39m\u001b[36m\u001b[1mTotal  \u001b[22m\u001b[39m\u001b[0m\u001b[1mTime\u001b[22m\n",
      "test set      | \u001b[32m   5  \u001b[39m\u001b[36m    5  \u001b[39m\u001b[0m0.2s\n",
      "\n",
      "\u001b[31m\u001b[1mTest Int64 inputs\u001b[22m\u001b[39m\n",
      "\u001b[0m\u001b[1mTest Summary: | \u001b[22m\u001b[32m\u001b[1mPass  \u001b[22m\u001b[39m\u001b[36m\u001b[1mTotal  \u001b[22m\u001b[39m\u001b[0m\u001b[1mTime\u001b[22m\n",
      "test set      | \u001b[32m   2  \u001b[39m\u001b[36m    2  \u001b[39m\u001b[0m0.0s\n",
      "\n",
      "\u001b[31m\u001b[1mRegression Tests\u001b[22m\u001b[39m\n",
      "\u001b[0m\u001b[1mTest Summary: | \u001b[22m\u001b[32m\u001b[1mPass  \u001b[22m\u001b[39m\u001b[36m\u001b[1mTotal  \u001b[22m\u001b[39m\u001b[0m\u001b[1mTime\u001b[22m\n",
      "test set      | \u001b[32m   8  \u001b[39m\u001b[36m    8  \u001b[39m\u001b[0m0.1s\n"
     ]
    }
   ],
   "source": [
    "include(joinpath(dirname(pathof(polylog)), \"tests.jl\"));"
   ]
  },
  {
   "cell_type": "code",
   "execution_count": 12,
   "id": "5adbb6c5",
   "metadata": {},
   "outputs": [
    {
     "data": {
      "text/plain": [
       "rd (generic function with 2 methods)"
      ]
     },
     "execution_count": 12,
     "metadata": {},
     "output_type": "execute_result"
    }
   ],
   "source": [
    "function rd(a::Real,b::Real)\n",
    "    if isinf(a) || isinf(b) || isnan(a) || isnan(b)\n",
    "       Inf\n",
    "    else\n",
    "     abs(a-b)/(min(abs(a),abs(b)))\n",
    "    end\n",
    " end\n"
   ]
  },
  {
   "cell_type": "code",
   "execution_count": 13,
   "id": "9fff5b81",
   "metadata": {},
   "outputs": [
    {
     "data": {
      "text/plain": [
       "rd (generic function with 2 methods)"
      ]
     },
     "execution_count": 13,
     "metadata": {},
     "output_type": "execute_result"
    }
   ],
   "source": [
    " function rd(a::Number,b::Number)\n",
    "      max(rd(real(a),real(b)), rd(imag(a),imag(b)))\n",
    " end"
   ]
  },
  {
   "cell_type": "code",
   "execution_count": 14,
   "id": "b8e53af0",
   "metadata": {},
   "outputs": [
    {
     "data": {
      "text/plain": [
       "relativeDiff (generic function with 1 method)"
      ]
     },
     "execution_count": 14,
     "metadata": {},
     "output_type": "execute_result"
    }
   ],
   "source": [
    "function relativeDiff(x,exact)\n",
    "    rr = abs(real(x)-real(exact))/abs(real(exact))\n",
    "    ri = abs(imag(x)-imag(exact))/abs(imag(exact))    \n",
    "    max(if isnan(rr) 0 else rr end,  if isnan(ri) 0 else ri end)       \n",
    "end"
   ]
  },
  {
   "cell_type": "code",
   "execution_count": 15,
   "id": "2494e344",
   "metadata": {},
   "outputs": [
    {
     "data": {
      "text/plain": [
       "compare_polylog2 (generic function with 2 methods)"
      ]
     },
     "execution_count": 15,
     "metadata": {},
     "output_type": "execute_result"
    }
   ],
   "source": [
    "function compare_polylog2(T::Type, n)\n",
    "    mm = -Inf\n",
    "    xxx = 0\n",
    "    pie = convert(BigFloat,pi)\n",
    "    for i = 1 : n\n",
    "        for j = 0 : n-1\n",
    "            x = (i/n) * cis(2*pie* j/n)\n",
    "            m = relativeDiff(polylog2(x), polylog2(convert(Complex{T},x)))\n",
    "            if m > mm\n",
    "                xxx = x\n",
    "                mm = m\n",
    "            end\n",
    "        end\n",
    "    end\n",
    "  convert(Float64,mm), convert(Complex{Float64}, xxx)\n",
    "end"
   ]
  },
  {
   "cell_type": "code",
   "execution_count": 16,
   "id": "68c9848c",
   "metadata": {},
   "outputs": [
    {
     "data": {
      "text/plain": [
       "(9.639329568507601e-15, 0.13866217279343623 + 0.7268925655392297im)"
      ]
     },
     "execution_count": 16,
     "metadata": {},
     "output_type": "execute_result"
    }
   ],
   "source": [
    "compare_polylog2(Float64, 50)"
   ]
  },
  {
   "cell_type": "code",
   "execution_count": null,
   "id": "7706b52a",
   "metadata": {},
   "outputs": [],
   "source": []
  },
  {
   "cell_type": "code",
   "execution_count": 17,
   "id": "9cf1efdd",
   "metadata": {},
   "outputs": [
    {
     "data": {
      "text/plain": [
       "multiple_prec (generic function with 1 method)"
      ]
     },
     "execution_count": 17,
     "metadata": {},
     "output_type": "execute_result"
    }
   ],
   "source": [
    "function multiple_prec(x)\n",
    "    y16 = polylog2(convert(Complex{Float16},x))\n",
    "    y32 = polylog2(convert(Complex{Float32},x))\n",
    "    y64 = polylog2(convert(Complex{Float64},x))\n",
    "    ybf = polylog2(convert(Complex{BigFloat},x))\n",
    "    isapprox(y16, convert(Complex{Float16},y32), atol=8*eps(Float16)) &&\n",
    "    isapprox(y32, convert(Complex{Float32},y32), atol=4*eps(Float32)) &&\n",
    "    isapprox(y64, convert(Complex{Float64},ybf), atol=4*eps(Float64))\n",
    "end"
   ]
  },
  {
   "cell_type": "code",
   "execution_count": 18,
   "id": "6d34d42d",
   "metadata": {},
   "outputs": [
    {
     "data": {
      "text/plain": [
       "true"
      ]
     },
     "execution_count": 18,
     "metadata": {},
     "output_type": "execute_result"
    }
   ],
   "source": [
    "multiple_prec(28*im)"
   ]
  },
  {
   "cell_type": "markdown",
   "id": "3300d508-efe2-47d8-821f-f1df48d5211a",
   "metadata": {},
   "source": [
    "I asked chatGPT 3.5 \"Write accurate Julia code that evaluates the dilogarithm function.\"  This is what I got"
   ]
  },
  {
   "cell_type": "code",
   "execution_count": 19,
   "id": "a60eab2c-fa2c-43e0-ab80-8f79082e51dc",
   "metadata": {
    "tags": []
   },
   "outputs": [],
   "source": [
    "using QuadGK"
   ]
  },
  {
   "cell_type": "code",
   "execution_count": 20,
   "id": "f02c3733-8b6b-4364-b278-53b5b252bc47",
   "metadata": {
    "tags": []
   },
   "outputs": [],
   "source": [
    "using BenchmarkTools"
   ]
  },
  {
   "cell_type": "code",
   "execution_count": 21,
   "id": "33541c52",
   "metadata": {
    "tags": []
   },
   "outputs": [
    {
     "data": {
      "text/plain": [
       "dilogarithm_chatGPT (generic function with 1 method)"
      ]
     },
     "execution_count": 21,
     "metadata": {},
     "output_type": "execute_result"
    }
   ],
   "source": [
    "function dilogarithm_chatGPT(z::Number)\n",
    "    if z == 1.0\n",
    "        return π^2 / 6\n",
    "    elseif abs(z) > 1\n",
    "        return real(dilogarithm_chatGPT(complex(z)))\n",
    "    end\n",
    "\n",
    "    f(t) = log(1 - t) / t\n",
    "    result, err = quadgk(f, 0, z)\n",
    "    return -result\n",
    "end"
   ]
  },
  {
   "cell_type": "markdown",
   "id": "fa4cc382-a820-4c21-8788-384bfb639748",
   "metadata": {},
   "source": [
    "For inputs outside the unit circle, the function `dilogarithm_chatGPT` is broken. Likely, just removing the `elseif abs(z) > 1` will fix this error.\n",
    "\n",
    "Let's do some timings to compare speeds. With one test, they have pretty much the same speed"
   ]
  },
  {
   "cell_type": "code",
   "execution_count": 22,
   "id": "454a6100-9a1c-473d-ba65-5f3ab1b14fa3",
   "metadata": {
    "tags": []
   },
   "outputs": [
    {
     "name": "stdout",
     "output_type": "stream",
     "text": [
      "  1.080 μs (0 allocations: 0 bytes)\n"
     ]
    },
    {
     "data": {
      "text/plain": [
       "-0.5483113556160755 + 0.6766277376064359im"
      ]
     },
     "execution_count": 22,
     "metadata": {},
     "output_type": "execute_result"
    }
   ],
   "source": [
    "q1 = @btime dilogarithm_chatGPT(cis(2*pi/3))"
   ]
  },
  {
   "cell_type": "code",
   "execution_count": 23,
   "id": "b8c2cf52-0d45-4d9d-8714-68163e4abeec",
   "metadata": {
    "tags": []
   },
   "outputs": [
    {
     "name": "stdout",
     "output_type": "stream",
     "text": [
      "  1.670 μs (0 allocations: 0 bytes)\n"
     ]
    },
    {
     "data": {
      "text/plain": [
       "-0.5483113556160752 + 0.6766277376064358im"
      ]
     },
     "execution_count": 23,
     "metadata": {},
     "output_type": "execute_result"
    }
   ],
   "source": [
    "q2 = @btime polylog2(cis(2*pi/3))"
   ]
  },
  {
   "cell_type": "markdown",
   "id": "47feba46-560d-4400-8ead-51c9fb828d96",
   "metadata": {},
   "source": [
    "For this case, the two methods have good agreement"
   ]
  },
  {
   "cell_type": "code",
   "execution_count": 25,
   "id": "d73a2284-197c-4fbf-a7bb-b568448c8151",
   "metadata": {
    "tags": []
   },
   "outputs": [
    {
     "data": {
      "text/plain": [
       "-2.220446049250313e-16 + 1.1102230246251565e-16im"
      ]
     },
     "execution_count": 25,
     "metadata": {},
     "output_type": "execute_result"
    }
   ],
   "source": [
    "q1-q2"
   ]
  },
  {
   "cell_type": "code",
   "execution_count": 85,
   "id": "7ac5bbd8-6990-492b-98f7-425b3c959df1",
   "metadata": {
    "tags": []
   },
   "outputs": [
    {
     "data": {
      "text/plain": [
       "boa (generic function with 1 method)"
      ]
     },
     "execution_count": 85,
     "metadata": {},
     "output_type": "execute_result"
    }
   ],
   "source": [
    "function boa(x::Real,y::Real)\n",
    "    ex = exponent(x)\n",
    "    ey = exponent(y)\n",
    "    sx = significand(x)\n",
    "    sy = significand(y)\n",
    "    if ex !== ey || typeof(x) !== typeof(y)\n",
    "        0\n",
    "    elseif x==y\n",
    "        precision(x)\n",
    "    else\n",
    "        -exponent(sx-sy)\n",
    "    end\n",
    "end"
   ]
  },
  {
   "cell_type": "code",
   "execution_count": 101,
   "id": "448f0a44-8404-48bf-ad17-f0bc91c34014",
   "metadata": {
    "tags": []
   },
   "outputs": [
    {
     "data": {
      "text/plain": [
       "0"
      ]
     },
     "execution_count": 101,
     "metadata": {},
     "output_type": "execute_result"
    }
   ],
   "source": [
    "boa(2.0, 1.999)"
   ]
  },
  {
   "cell_type": "code",
   "execution_count": 89,
   "id": "b7c3de0b-ee84-42c0-8f99-d8a8e7eb16bb",
   "metadata": {
    "tags": []
   },
   "outputs": [
    {
     "data": {
      "text/plain": [
       "53"
      ]
     },
     "execution_count": 89,
     "metadata": {},
     "output_type": "execute_result"
    }
   ],
   "source": [
    "precision(3.4)"
   ]
  },
  {
   "cell_type": "code",
   "execution_count": null,
   "id": "77a6f296-6d81-4ba9-93bf-4afb97c0b135",
   "metadata": {},
   "outputs": [],
   "source": []
  }
 ],
 "metadata": {
  "kernelspec": {
   "display_name": "Julia 1.10.0",
   "language": "julia",
   "name": "julia-1.10"
  },
  "language_info": {
   "file_extension": ".jl",
   "mimetype": "application/julia",
   "name": "julia",
   "version": "1.10.0"
  }
 },
 "nbformat": 4,
 "nbformat_minor": 5
}
